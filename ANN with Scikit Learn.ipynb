{
  "nbformat": 4,
  "nbformat_minor": 0,
  "metadata": {
    "colab": {
      "provenance": []
    },
    "kernelspec": {
      "name": "python3",
      "display_name": "Python 3"
    },
    "language_info": {
      "name": "python"
    }
  },
  "cells": [
    {
      "cell_type": "code",
      "execution_count": 1,
      "metadata": {
        "id": "F3wI55GYnznF"
      },
      "outputs": [],
      "source": [
        "import numpy as np\n",
        "from sklearn.datasets import load_iris\n",
        "from sklearn.linear_model import Perceptron"
      ]
    },
    {
      "cell_type": "code",
      "source": [
        "iris = load_iris()\n",
        "X = iris.data[:, (2, 3)] # petal length, petal width\n",
        "y = (iris.target == 0).astype(np.int32) # Iris Setosa?\n",
        "per_clf = Perceptron()\n",
        "per_clf.fit(X, y)\n",
        "y_pred = per_clf.predict([[2, 0.5]])\n"
      ],
      "metadata": {
        "id": "hehK2zxgn7T3"
      },
      "execution_count": 5,
      "outputs": []
    },
    {
      "cell_type": "code",
      "source": [
        "import tensorflow as tf\n",
        "from tensorflow import keras\n",
        "tf.__version__"
      ],
      "metadata": {
        "colab": {
          "base_uri": "https://localhost:8080/",
          "height": 35
        },
        "id": "zE2GP3FSn7O3",
        "outputId": "cacfc592-7ca9-4ec1-a4a3-8b7e713d2a28"
      },
      "execution_count": 6,
      "outputs": [
        {
          "output_type": "execute_result",
          "data": {
            "text/plain": [
              "'2.12.0'"
            ],
            "application/vnd.google.colaboratory.intrinsic+json": {
              "type": "string"
            }
          },
          "metadata": {},
          "execution_count": 6
        }
      ]
    },
    {
      "cell_type": "code",
      "source": [
        "keras.__version__"
      ],
      "metadata": {
        "colab": {
          "base_uri": "https://localhost:8080/",
          "height": 35
        },
        "id": "Y4Iw55xAn7Lv",
        "outputId": "6db8807b-c05c-4c79-a95b-fdeee803f87f"
      },
      "execution_count": 7,
      "outputs": [
        {
          "output_type": "execute_result",
          "data": {
            "text/plain": [
              "'2.12.0'"
            ],
            "application/vnd.google.colaboratory.intrinsic+json": {
              "type": "string"
            }
          },
          "metadata": {},
          "execution_count": 7
        }
      ]
    },
    {
      "cell_type": "code",
      "source": [
        "fashion_mnist = keras.datasets.fashion_mnist\n",
        "(X_train_full, y_train_full), (X_test, y_test) = fashion_mnist.load_data()"
      ],
      "metadata": {
        "id": "zy8ZPjshn7JI"
      },
      "execution_count": 65,
      "outputs": []
    },
    {
      "cell_type": "code",
      "source": [
        "print(\"Train Data Shape: \", X_train_full.shape)\n",
        "print(\"Train Data Type: \", X_train_full.dtype)\n",
        "print(\"Test Data Shape: \", X_test.shape)\n",
        "print(\"Test Data Type: \", X_test.dtype)\n"
      ],
      "metadata": {
        "colab": {
          "base_uri": "https://localhost:8080/"
        },
        "id": "rdC5uc8Pn7FQ",
        "outputId": "d68f0d3d-3800-4a65-e2c2-44b64051a629"
      },
      "execution_count": 66,
      "outputs": [
        {
          "output_type": "stream",
          "name": "stdout",
          "text": [
            "Train Data Shape:  (60000, 28, 28)\n",
            "Train Data Type:  uint8\n",
            "Test Data Shape:  (10000, 28, 28)\n",
            "Test Data Type:  uint8\n"
          ]
        }
      ]
    },
    {
      "cell_type": "markdown",
      "source": [
        "Though the data is partitioned into training and testing, we also need validation set from the trianing set."
      ],
      "metadata": {
        "id": "HlECo1tssfgB"
      }
    },
    {
      "cell_type": "code",
      "source": [
        "X_valid, X_train = X_train_full[:5000] / 255.0, X_train_full[5000:] / 255.0\n",
        "y_valid, y_train = y_train_full[:5000], y_train_full[5000:]"
      ],
      "metadata": {
        "id": "X-xdXDcCsaCT"
      },
      "execution_count": 67,
      "outputs": []
    },
    {
      "cell_type": "code",
      "source": [
        "X_TrainPlusValid = X_train_full[:] /255.0\n",
        "y_TrainPlusValid = y_train_full[:] /255.0"
      ],
      "metadata": {
        "id": "QVVyRzxxK9Ik"
      },
      "execution_count": 46,
      "outputs": []
    },
    {
      "cell_type": "code",
      "source": [
        "X_train.shape"
      ],
      "metadata": {
        "colab": {
          "base_uri": "https://localhost:8080/"
        },
        "id": "mkt2Au5bKEVS",
        "outputId": "e77ff820-4cd1-4288-d5bd-b58e0a303b37"
      },
      "execution_count": 54,
      "outputs": [
        {
          "output_type": "execute_result",
          "data": {
            "text/plain": [
              "(55000, 28, 28)"
            ]
          },
          "metadata": {},
          "execution_count": 54
        }
      ]
    },
    {
      "cell_type": "code",
      "source": [
        "class_names = [\"T-shirt/top\", \"Trouser\", \"Pullover\", \"Dress\", \"Coat\",\n",
        "\"Sandal\", \"Shirt\", \"Sneaker\", \"Bag\", \"Ankle boot\"]"
      ],
      "metadata": {
        "id": "aTjLYPtUtGNZ"
      },
      "execution_count": 68,
      "outputs": []
    },
    {
      "cell_type": "code",
      "source": [
        "print(class_names[y_train[0]])"
      ],
      "metadata": {
        "colab": {
          "base_uri": "https://localhost:8080/"
        },
        "id": "9bMpiuG9tGKS",
        "outputId": "50921bb3-d507-4dda-9605-736c2c5d1df9"
      },
      "execution_count": 69,
      "outputs": [
        {
          "output_type": "stream",
          "name": "stdout",
          "text": [
            "Coat\n"
          ]
        }
      ]
    },
    {
      "cell_type": "code",
      "source": [
        "# model = keras.models.Sequential()\n",
        "# model.add(keras.layers.Flatten(input_shape=[28,28]))\n",
        "# model.add(keras.layers.Dense(300, activation=\"relu\"))\n",
        "# model.add(keras.layers.Dense(100, activation=\"relu\"))\n",
        "# model.add(keras.layers.Dense(10, activation=\"softmax\"))\n",
        "\n",
        "# OR\n",
        "\n",
        "model = keras.models.Sequential([\n",
        "  keras.layers.Flatten(input_shape=[28, 28]),\n",
        "  keras.layers.Dense(300, activation=\"relu\"),\n",
        "  keras.layers.Dense(100, activation=\"relu\"),\n",
        "  keras.layers.Dense(10, activation=\"softmax\")\n",
        "  ])"
      ],
      "metadata": {
        "id": "POyoxLyjtGHD"
      },
      "execution_count": 70,
      "outputs": []
    },
    {
      "cell_type": "code",
      "source": [
        "model.summary()"
      ],
      "metadata": {
        "colab": {
          "base_uri": "https://localhost:8080/"
        },
        "id": "OZ_oCeprtF-h",
        "outputId": "a62c7d9f-13d7-4072-c35d-d3001419ee49"
      },
      "execution_count": 18,
      "outputs": [
        {
          "output_type": "stream",
          "name": "stdout",
          "text": [
            "Model: \"sequential\"\n",
            "_________________________________________________________________\n",
            " Layer (type)                Output Shape              Param #   \n",
            "=================================================================\n",
            " flatten (Flatten)           (None, 784)               0         \n",
            "                                                                 \n",
            " dense (Dense)               (None, 300)               235500    \n",
            "                                                                 \n",
            " dense_1 (Dense)             (None, 100)               30100     \n",
            "                                                                 \n",
            " dense_2 (Dense)             (None, 10)                1010      \n",
            "                                                                 \n",
            "=================================================================\n",
            "Total params: 266,610\n",
            "Trainable params: 266,610\n",
            "Non-trainable params: 0\n",
            "_________________________________________________________________\n"
          ]
        }
      ]
    },
    {
      "cell_type": "code",
      "source": [
        "modelType1 = keras.models.Sequential([\n",
        "    keras.layers.Flatten(input_shape=[28,28]),\n",
        "    keras.layers.Dense(64, activation=\"relu\"),\n",
        "    keras.layers.Dense(128, activation=\"relu\"),\n",
        "    keras.layers.Dense(256, activation=\"relu\"),\n",
        "    keras.layers.Dense(512, activation=\"relu\"),\n",
        "    keras.layers.Dense(512, activation=\"relu\"),\n",
        "    keras.layers.Dense(256, activation=\"relu\"),\n",
        "    keras.layers.Dense(128, activation=\"relu\"),\n",
        "    keras.layers.Dense(10, activation=\"softmax\")\n",
        "    ])"
      ],
      "metadata": {
        "id": "SjQRiJAPxcvx"
      },
      "execution_count": 74,
      "outputs": []
    },
    {
      "cell_type": "code",
      "source": [
        "modelType1.summary()"
      ],
      "metadata": {
        "colab": {
          "base_uri": "https://localhost:8080/"
        },
        "id": "tTPPNgXFxctG",
        "outputId": "e32c99ca-0643-4db6-a0b7-b9792e30b0a4"
      },
      "execution_count": 59,
      "outputs": [
        {
          "output_type": "stream",
          "name": "stdout",
          "text": [
            "Model: \"sequential_4\"\n",
            "_________________________________________________________________\n",
            " Layer (type)                Output Shape              Param #   \n",
            "=================================================================\n",
            " flatten_4 (Flatten)         (None, 784)               0         \n",
            "                                                                 \n",
            " dense_17 (Dense)            (None, 64)                50240     \n",
            "                                                                 \n",
            " dense_18 (Dense)            (None, 128)               8320      \n",
            "                                                                 \n",
            " dense_19 (Dense)            (None, 256)               33024     \n",
            "                                                                 \n",
            " dense_20 (Dense)            (None, 512)               131584    \n",
            "                                                                 \n",
            " dense_21 (Dense)            (None, 512)               262656    \n",
            "                                                                 \n",
            " dense_22 (Dense)            (None, 256)               131328    \n",
            "                                                                 \n",
            " dense_23 (Dense)            (None, 128)               32896     \n",
            "                                                                 \n",
            " dense_24 (Dense)            (None, 10)                1290      \n",
            "                                                                 \n",
            "=================================================================\n",
            "Total params: 651,338\n",
            "Trainable params: 651,338\n",
            "Non-trainable params: 0\n",
            "_________________________________________________________________\n"
          ]
        }
      ]
    },
    {
      "cell_type": "code",
      "source": [
        "model.layers"
      ],
      "metadata": {
        "colab": {
          "base_uri": "https://localhost:8080/"
        },
        "id": "lCdY6gSRxcqh",
        "outputId": "35af40c4-0fef-450b-d9e2-b07c47575938"
      },
      "execution_count": 23,
      "outputs": [
        {
          "output_type": "execute_result",
          "data": {
            "text/plain": [
              "[<keras.layers.reshaping.flatten.Flatten at 0x7f7d705a5270>,\n",
              " <keras.layers.core.dense.Dense at 0x7f7d705a6650>,\n",
              " <keras.layers.core.dense.Dense at 0x7f7d705a79a0>,\n",
              " <keras.layers.core.dense.Dense at 0x7f7d705a7400>]"
            ]
          },
          "metadata": {},
          "execution_count": 23
        }
      ]
    },
    {
      "cell_type": "code",
      "source": [
        "model.layers[1].name"
      ],
      "metadata": {
        "colab": {
          "base_uri": "https://localhost:8080/",
          "height": 35
        },
        "id": "KndBq3dpxcnq",
        "outputId": "f5d0cdef-ef52-400a-b59e-e4f50cdfbd80"
      },
      "execution_count": 24,
      "outputs": [
        {
          "output_type": "execute_result",
          "data": {
            "text/plain": [
              "'dense'"
            ],
            "application/vnd.google.colaboratory.intrinsic+json": {
              "type": "string"
            }
          },
          "metadata": {},
          "execution_count": 24
        }
      ]
    },
    {
      "cell_type": "code",
      "source": [
        "model.get_layer('dense_2').name"
      ],
      "metadata": {
        "colab": {
          "base_uri": "https://localhost:8080/",
          "height": 35
        },
        "id": "f8wC6Ujuxcky",
        "outputId": "956735ae-dfa4-4d9b-beb5-b148e198e85b"
      },
      "execution_count": 26,
      "outputs": [
        {
          "output_type": "execute_result",
          "data": {
            "text/plain": [
              "'dense_2'"
            ],
            "application/vnd.google.colaboratory.intrinsic+json": {
              "type": "string"
            }
          },
          "metadata": {},
          "execution_count": 26
        }
      ]
    },
    {
      "cell_type": "code",
      "source": [
        "for layer in model.layers:\n",
        "  print(\"To see all the weights and configurations: \")\n",
        "  # print(layer.get_config(), layer.get_weights())\n"
      ],
      "metadata": {
        "colab": {
          "base_uri": "https://localhost:8080/"
        },
        "id": "Bqsjsf65-mhI",
        "outputId": "729777df-353b-4d12-d066-3c8e90eb149a"
      },
      "execution_count": 33,
      "outputs": [
        {
          "output_type": "stream",
          "name": "stdout",
          "text": [
            "To see all the weights and configurations: \n",
            "To see all the weights and configurations: \n",
            "To see all the weights and configurations: \n",
            "To see all the weights and configurations: \n"
          ]
        }
      ]
    },
    {
      "cell_type": "markdown",
      "source": [
        "We have build the model now, we have to compile it."
      ],
      "metadata": {
        "id": "789ARXAH_oIH"
      }
    },
    {
      "cell_type": "code",
      "source": [
        "model.compile(\n",
        "    loss=\"sparse_categorical_crossentropy\",\n",
        "    optimizer=\"sgd\",\n",
        "    metrics=[\"accuracy\"]\n",
        "    )"
      ],
      "metadata": {
        "id": "D9kp1qtT-ncN"
      },
      "execution_count": 60,
      "outputs": []
    },
    {
      "cell_type": "code",
      "source": [
        "modelType1.compile(\n",
        "    loss=\"sparse_categorical_crossentropy\",\n",
        "    optimizer=\"sgd\",\n",
        "    metrics=[\"accuracy\"]\n",
        ")"
      ],
      "metadata": {
        "id": "85938VL4NCmk"
      },
      "execution_count": 75,
      "outputs": []
    },
    {
      "cell_type": "code",
      "source": [
        "history = model.fit(X_train, y_train, epochs=30,\n",
        "                    validation_data=(X_valid, y_valid))"
      ],
      "metadata": {
        "colab": {
          "base_uri": "https://localhost:8080/"
        },
        "id": "AM8cRncQ-nZQ",
        "outputId": "dcf3f444-a518-4bc4-9e6f-6718f37c1580"
      },
      "execution_count": 61,
      "outputs": [
        {
          "output_type": "stream",
          "name": "stdout",
          "text": [
            "Epoch 1/30\n",
            "1719/1719 [==============================] - 11s 6ms/step - loss: 0.7134 - accuracy: 0.7627 - val_loss: 0.5039 - val_accuracy: 0.8344\n",
            "Epoch 2/30\n",
            "1719/1719 [==============================] - 7s 4ms/step - loss: 0.4868 - accuracy: 0.8294 - val_loss: 0.4421 - val_accuracy: 0.8490\n",
            "Epoch 3/30\n",
            "1719/1719 [==============================] - 9s 5ms/step - loss: 0.4402 - accuracy: 0.8453 - val_loss: 0.4129 - val_accuracy: 0.8604\n",
            "Epoch 4/30\n",
            "1719/1719 [==============================] - 9s 5ms/step - loss: 0.4141 - accuracy: 0.8550 - val_loss: 0.3965 - val_accuracy: 0.8646\n",
            "Epoch 5/30\n",
            "1719/1719 [==============================] - 7s 4ms/step - loss: 0.3930 - accuracy: 0.8617 - val_loss: 0.3951 - val_accuracy: 0.8620\n",
            "Epoch 6/30\n",
            "1719/1719 [==============================] - 9s 5ms/step - loss: 0.3770 - accuracy: 0.8669 - val_loss: 0.3666 - val_accuracy: 0.8726\n",
            "Epoch 7/30\n",
            "1719/1719 [==============================] - 8s 5ms/step - loss: 0.3632 - accuracy: 0.8713 - val_loss: 0.3639 - val_accuracy: 0.8748\n",
            "Epoch 8/30\n",
            "1719/1719 [==============================] - 8s 4ms/step - loss: 0.3519 - accuracy: 0.8747 - val_loss: 0.3523 - val_accuracy: 0.8792\n",
            "Epoch 9/30\n",
            "1719/1719 [==============================] - 9s 5ms/step - loss: 0.3412 - accuracy: 0.8784 - val_loss: 0.3437 - val_accuracy: 0.8812\n",
            "Epoch 10/30\n",
            "1719/1719 [==============================] - 8s 5ms/step - loss: 0.3327 - accuracy: 0.8808 - val_loss: 0.3626 - val_accuracy: 0.8746\n",
            "Epoch 11/30\n",
            "1719/1719 [==============================] - 8s 5ms/step - loss: 0.3237 - accuracy: 0.8840 - val_loss: 0.3541 - val_accuracy: 0.8742\n",
            "Epoch 12/30\n",
            "1719/1719 [==============================] - 9s 5ms/step - loss: 0.3163 - accuracy: 0.8867 - val_loss: 0.3642 - val_accuracy: 0.8712\n",
            "Epoch 13/30\n",
            "1719/1719 [==============================] - 8s 5ms/step - loss: 0.3089 - accuracy: 0.8887 - val_loss: 0.3447 - val_accuracy: 0.8786\n",
            "Epoch 14/30\n",
            "1719/1719 [==============================] - 13s 8ms/step - loss: 0.3021 - accuracy: 0.8906 - val_loss: 0.3233 - val_accuracy: 0.8844\n",
            "Epoch 15/30\n",
            "1719/1719 [==============================] - 13s 7ms/step - loss: 0.2963 - accuracy: 0.8937 - val_loss: 0.3198 - val_accuracy: 0.8846\n",
            "Epoch 16/30\n",
            "1719/1719 [==============================] - 10s 6ms/step - loss: 0.2900 - accuracy: 0.8943 - val_loss: 0.3248 - val_accuracy: 0.8828\n",
            "Epoch 17/30\n",
            "1719/1719 [==============================] - 12s 7ms/step - loss: 0.2831 - accuracy: 0.8977 - val_loss: 0.3146 - val_accuracy: 0.8892\n",
            "Epoch 18/30\n",
            "1719/1719 [==============================] - 11s 6ms/step - loss: 0.2781 - accuracy: 0.9002 - val_loss: 0.3090 - val_accuracy: 0.8894\n",
            "Epoch 19/30\n",
            "1719/1719 [==============================] - 8s 5ms/step - loss: 0.2723 - accuracy: 0.9022 - val_loss: 0.3114 - val_accuracy: 0.8860\n",
            "Epoch 20/30\n",
            "1719/1719 [==============================] - 9s 5ms/step - loss: 0.2681 - accuracy: 0.9023 - val_loss: 0.3115 - val_accuracy: 0.8898\n",
            "Epoch 21/30\n",
            "1719/1719 [==============================] - 10s 6ms/step - loss: 0.2633 - accuracy: 0.9050 - val_loss: 0.3079 - val_accuracy: 0.8866\n",
            "Epoch 22/30\n",
            "1719/1719 [==============================] - 8s 5ms/step - loss: 0.2583 - accuracy: 0.9077 - val_loss: 0.3107 - val_accuracy: 0.8886\n",
            "Epoch 23/30\n",
            "1719/1719 [==============================] - 7s 4ms/step - loss: 0.2539 - accuracy: 0.9082 - val_loss: 0.3008 - val_accuracy: 0.8924\n",
            "Epoch 24/30\n",
            "1719/1719 [==============================] - 9s 5ms/step - loss: 0.2493 - accuracy: 0.9098 - val_loss: 0.2893 - val_accuracy: 0.8952\n",
            "Epoch 25/30\n",
            "1719/1719 [==============================] - 13s 7ms/step - loss: 0.2446 - accuracy: 0.9120 - val_loss: 0.3016 - val_accuracy: 0.8890\n",
            "Epoch 26/30\n",
            "1719/1719 [==============================] - 8s 5ms/step - loss: 0.2415 - accuracy: 0.9123 - val_loss: 0.2966 - val_accuracy: 0.8962\n",
            "Epoch 27/30\n",
            "1719/1719 [==============================] - 9s 5ms/step - loss: 0.2362 - accuracy: 0.9145 - val_loss: 0.3007 - val_accuracy: 0.8920\n",
            "Epoch 28/30\n",
            "1719/1719 [==============================] - 9s 5ms/step - loss: 0.2319 - accuracy: 0.9164 - val_loss: 0.3141 - val_accuracy: 0.8848\n",
            "Epoch 29/30\n",
            "1719/1719 [==============================] - 8s 5ms/step - loss: 0.2280 - accuracy: 0.9178 - val_loss: 0.2929 - val_accuracy: 0.8974\n",
            "Epoch 30/30\n",
            "1719/1719 [==============================] - 9s 5ms/step - loss: 0.2254 - accuracy: 0.9185 - val_loss: 0.2903 - val_accuracy: 0.8944\n"
          ]
        }
      ]
    },
    {
      "cell_type": "code",
      "source": [
        "history1 = model.fit(X_TrainPlusValid, y_TrainPlusValid, epochs=30, validation_split=.2)"
      ],
      "metadata": {
        "colab": {
          "base_uri": "https://localhost:8080/"
        },
        "id": "eb67LLTp-nWf",
        "outputId": "36a5b9c7-ab0e-4207-c0ba-58f136964e24"
      },
      "execution_count": 50,
      "outputs": [
        {
          "output_type": "stream",
          "name": "stdout",
          "text": [
            "Epoch 1/30\n",
            "1500/1500 [==============================] - 7s 4ms/step - loss: 0.0138 - accuracy: 0.0991 - val_loss: 0.0013 - val_accuracy: 0.1030\n",
            "Epoch 2/30\n",
            "1500/1500 [==============================] - 8s 5ms/step - loss: 8.4083e-04 - accuracy: 0.0993 - val_loss: 6.0415e-04 - val_accuracy: 0.1030\n",
            "Epoch 3/30\n",
            "1500/1500 [==============================] - 7s 5ms/step - loss: 4.6587e-04 - accuracy: 0.0993 - val_loss: 3.9177e-04 - val_accuracy: 0.1030\n",
            "Epoch 4/30\n",
            "1500/1500 [==============================] - 7s 5ms/step - loss: 3.2005e-04 - accuracy: 0.0993 - val_loss: 2.8854e-04 - val_accuracy: 0.1030\n",
            "Epoch 5/30\n",
            "1500/1500 [==============================] - 8s 5ms/step - loss: 2.4259e-04 - accuracy: 0.0993 - val_loss: 2.2773e-04 - val_accuracy: 0.1030\n",
            "Epoch 6/30\n",
            "1500/1500 [==============================] - 7s 4ms/step - loss: 1.9467e-04 - accuracy: 0.0993 - val_loss: 1.8778e-04 - val_accuracy: 0.1030\n",
            "Epoch 7/30\n",
            "1500/1500 [==============================] - 8s 5ms/step - loss: 1.6220e-04 - accuracy: 0.0993 - val_loss: 1.5959e-04 - val_accuracy: 0.1030\n",
            "Epoch 8/30\n",
            "1500/1500 [==============================] - 6s 4ms/step - loss: 1.3879e-04 - accuracy: 0.0993 - val_loss: 1.3863e-04 - val_accuracy: 0.1030\n",
            "Epoch 9/30\n",
            "1500/1500 [==============================] - 8s 5ms/step - loss: 1.2114e-04 - accuracy: 0.0993 - val_loss: 1.2249e-04 - val_accuracy: 0.1030\n",
            "Epoch 10/30\n",
            "1500/1500 [==============================] - 7s 5ms/step - loss: 1.0738e-04 - accuracy: 0.0993 - val_loss: 1.0967e-04 - val_accuracy: 0.1030\n",
            "Epoch 11/30\n",
            "1500/1500 [==============================] - 7s 5ms/step - loss: 9.6344e-05 - accuracy: 0.0993 - val_loss: 9.9231e-05 - val_accuracy: 0.1030\n",
            "Epoch 12/30\n",
            "1500/1500 [==============================] - 7s 4ms/step - loss: 8.7309e-05 - accuracy: 0.0993 - val_loss: 9.0588e-05 - val_accuracy: 0.1030\n",
            "Epoch 13/30\n",
            "1500/1500 [==============================] - 7s 5ms/step - loss: 7.9782e-05 - accuracy: 0.0993 - val_loss: 8.3312e-05 - val_accuracy: 0.1030\n",
            "Epoch 14/30\n",
            "1500/1500 [==============================] - 7s 5ms/step - loss: 7.3417e-05 - accuracy: 0.0993 - val_loss: 7.7098e-05 - val_accuracy: 0.1030\n",
            "Epoch 15/30\n",
            "1500/1500 [==============================] - 6s 4ms/step - loss: 6.7965e-05 - accuracy: 0.0993 - val_loss: 7.1737e-05 - val_accuracy: 0.1030\n",
            "Epoch 16/30\n",
            "1500/1500 [==============================] - 7s 5ms/step - loss: 6.3247e-05 - accuracy: 0.0993 - val_loss: 6.7065e-05 - val_accuracy: 0.1030\n",
            "Epoch 17/30\n",
            "1500/1500 [==============================] - 7s 5ms/step - loss: 5.9123e-05 - accuracy: 0.0993 - val_loss: 6.2956e-05 - val_accuracy: 0.1030\n",
            "Epoch 18/30\n",
            "1500/1500 [==============================] - 8s 5ms/step - loss: 5.5488e-05 - accuracy: 0.0993 - val_loss: 5.9313e-05 - val_accuracy: 0.1030\n",
            "Epoch 19/30\n",
            "1500/1500 [==============================] - 8s 5ms/step - loss: 5.2263e-05 - accuracy: 0.0993 - val_loss: 5.6063e-05 - val_accuracy: 0.1030\n",
            "Epoch 20/30\n",
            "1500/1500 [==============================] - 8s 5ms/step - loss: 4.9381e-05 - accuracy: 0.0993 - val_loss: 5.3147e-05 - val_accuracy: 0.1030\n",
            "Epoch 21/30\n",
            "1500/1500 [==============================] - 8s 5ms/step - loss: 4.6792e-05 - accuracy: 0.0993 - val_loss: 5.0514e-05 - val_accuracy: 0.1030\n",
            "Epoch 22/30\n",
            "1500/1500 [==============================] - 7s 4ms/step - loss: 4.4453e-05 - accuracy: 0.0993 - val_loss: 4.8128e-05 - val_accuracy: 0.1030\n",
            "Epoch 23/30\n",
            "1500/1500 [==============================] - 8s 5ms/step - loss: 4.2331e-05 - accuracy: 0.0993 - val_loss: 4.5953e-05 - val_accuracy: 0.1030\n",
            "Epoch 24/30\n",
            "1500/1500 [==============================] - 7s 5ms/step - loss: 4.0397e-05 - accuracy: 0.0993 - val_loss: 4.3965e-05 - val_accuracy: 0.1030\n",
            "Epoch 25/30\n",
            "1500/1500 [==============================] - 9s 6ms/step - loss: 3.8628e-05 - accuracy: 0.0993 - val_loss: 4.2138e-05 - val_accuracy: 0.1030\n",
            "Epoch 26/30\n",
            "1500/1500 [==============================] - 8s 5ms/step - loss: 3.7002e-05 - accuracy: 0.0993 - val_loss: 4.0455e-05 - val_accuracy: 0.1030\n",
            "Epoch 27/30\n",
            "1500/1500 [==============================] - 7s 5ms/step - loss: 3.5503e-05 - accuracy: 0.0993 - val_loss: 3.8900e-05 - val_accuracy: 0.1030\n",
            "Epoch 28/30\n",
            "1500/1500 [==============================] - 8s 5ms/step - loss: 3.4117e-05 - accuracy: 0.0993 - val_loss: 3.7459e-05 - val_accuracy: 0.1030\n",
            "Epoch 29/30\n",
            "1500/1500 [==============================] - 7s 5ms/step - loss: 3.2834e-05 - accuracy: 0.0993 - val_loss: 3.6119e-05 - val_accuracy: 0.1030\n",
            "Epoch 30/30\n",
            "1500/1500 [==============================] - 8s 5ms/step - loss: 3.1641e-05 - accuracy: 0.0993 - val_loss: 3.4871e-05 - val_accuracy: 0.1030\n"
          ]
        }
      ]
    },
    {
      "cell_type": "code",
      "source": [
        "history2 = modelType1.fit(X_train, y_train, epochs=30,\n",
        "                    validation_data=(X_valid, y_valid))"
      ],
      "metadata": {
        "colab": {
          "base_uri": "https://localhost:8080/"
        },
        "id": "SpiFpkTv-nT5",
        "outputId": "6d329969-6632-472e-bd4a-dadf07226226"
      },
      "execution_count": 76,
      "outputs": [
        {
          "output_type": "stream",
          "name": "stdout",
          "text": [
            "Epoch 1/30\n",
            "1719/1719 [==============================] - 21s 12ms/step - loss: 0.9840 - accuracy: 0.6545 - val_loss: 0.5796 - val_accuracy: 0.8014\n",
            "Epoch 2/30\n",
            "1719/1719 [==============================] - 18s 10ms/step - loss: 0.5299 - accuracy: 0.8106 - val_loss: 0.4528 - val_accuracy: 0.8428\n",
            "Epoch 3/30\n",
            "1719/1719 [==============================] - 20s 12ms/step - loss: 0.4515 - accuracy: 0.8368 - val_loss: 0.4309 - val_accuracy: 0.8438\n",
            "Epoch 4/30\n",
            "1719/1719 [==============================] - 19s 11ms/step - loss: 0.4085 - accuracy: 0.8510 - val_loss: 0.4175 - val_accuracy: 0.8462\n",
            "Epoch 5/30\n",
            "1719/1719 [==============================] - 17s 10ms/step - loss: 0.3853 - accuracy: 0.8589 - val_loss: 0.3888 - val_accuracy: 0.8606\n",
            "Epoch 6/30\n",
            "1719/1719 [==============================] - 18s 10ms/step - loss: 0.3671 - accuracy: 0.8664 - val_loss: 0.3667 - val_accuracy: 0.8642\n",
            "Epoch 7/30\n",
            "1719/1719 [==============================] - 17s 10ms/step - loss: 0.3510 - accuracy: 0.8721 - val_loss: 0.3443 - val_accuracy: 0.8768\n",
            "Epoch 8/30\n",
            "1719/1719 [==============================] - 18s 10ms/step - loss: 0.3380 - accuracy: 0.8762 - val_loss: 0.3331 - val_accuracy: 0.8824\n",
            "Epoch 9/30\n",
            "1719/1719 [==============================] - 17s 10ms/step - loss: 0.3292 - accuracy: 0.8792 - val_loss: 0.3469 - val_accuracy: 0.8756\n",
            "Epoch 10/30\n",
            "1719/1719 [==============================] - 17s 10ms/step - loss: 0.3196 - accuracy: 0.8823 - val_loss: 0.3357 - val_accuracy: 0.8808\n",
            "Epoch 11/30\n",
            "1719/1719 [==============================] - 18s 11ms/step - loss: 0.3104 - accuracy: 0.8860 - val_loss: 0.3307 - val_accuracy: 0.8822\n",
            "Epoch 12/30\n",
            "1719/1719 [==============================] - 17s 10ms/step - loss: 0.3031 - accuracy: 0.8868 - val_loss: 0.3579 - val_accuracy: 0.8666\n",
            "Epoch 13/30\n",
            "1719/1719 [==============================] - 17s 10ms/step - loss: 0.2952 - accuracy: 0.8904 - val_loss: 0.3161 - val_accuracy: 0.8868\n",
            "Epoch 14/30\n",
            "1719/1719 [==============================] - 18s 11ms/step - loss: 0.2882 - accuracy: 0.8921 - val_loss: 0.3098 - val_accuracy: 0.8888\n",
            "Epoch 15/30\n",
            "1719/1719 [==============================] - 17s 10ms/step - loss: 0.2838 - accuracy: 0.8950 - val_loss: 0.3224 - val_accuracy: 0.8810\n",
            "Epoch 16/30\n",
            "1719/1719 [==============================] - 17s 10ms/step - loss: 0.2766 - accuracy: 0.8976 - val_loss: 0.3016 - val_accuracy: 0.8916\n",
            "Epoch 17/30\n",
            "1719/1719 [==============================] - 19s 11ms/step - loss: 0.2701 - accuracy: 0.8995 - val_loss: 0.3178 - val_accuracy: 0.8870\n",
            "Epoch 18/30\n",
            "1719/1719 [==============================] - 18s 10ms/step - loss: 0.2665 - accuracy: 0.8994 - val_loss: 0.3031 - val_accuracy: 0.8876\n",
            "Epoch 19/30\n",
            "1719/1719 [==============================] - 17s 10ms/step - loss: 0.2594 - accuracy: 0.9032 - val_loss: 0.3153 - val_accuracy: 0.8878\n",
            "Epoch 20/30\n",
            "1719/1719 [==============================] - 21s 12ms/step - loss: 0.2553 - accuracy: 0.9043 - val_loss: 0.3079 - val_accuracy: 0.8888\n",
            "Epoch 21/30\n",
            "1719/1719 [==============================] - 20s 12ms/step - loss: 0.2525 - accuracy: 0.9059 - val_loss: 0.3037 - val_accuracy: 0.8918\n",
            "Epoch 22/30\n",
            "1719/1719 [==============================] - 24s 14ms/step - loss: 0.2476 - accuracy: 0.9080 - val_loss: 0.3227 - val_accuracy: 0.8852\n",
            "Epoch 23/30\n",
            "1719/1719 [==============================] - 20s 12ms/step - loss: 0.2416 - accuracy: 0.9097 - val_loss: 0.3111 - val_accuracy: 0.8886\n",
            "Epoch 24/30\n",
            "1719/1719 [==============================] - 17s 10ms/step - loss: 0.2384 - accuracy: 0.9105 - val_loss: 0.3029 - val_accuracy: 0.8930\n",
            "Epoch 25/30\n",
            "1719/1719 [==============================] - 19s 11ms/step - loss: 0.2318 - accuracy: 0.9128 - val_loss: 0.3145 - val_accuracy: 0.8912\n",
            "Epoch 26/30\n",
            "1719/1719 [==============================] - 17s 10ms/step - loss: 0.2282 - accuracy: 0.9149 - val_loss: 0.3426 - val_accuracy: 0.8750\n",
            "Epoch 27/30\n",
            "1719/1719 [==============================] - 18s 10ms/step - loss: 0.2260 - accuracy: 0.9160 - val_loss: 0.2971 - val_accuracy: 0.8960\n",
            "Epoch 28/30\n",
            "1719/1719 [==============================] - 19s 11ms/step - loss: 0.2208 - accuracy: 0.9182 - val_loss: 0.3034 - val_accuracy: 0.8912\n",
            "Epoch 29/30\n",
            "1719/1719 [==============================] - 18s 11ms/step - loss: 0.2181 - accuracy: 0.9183 - val_loss: 0.3118 - val_accuracy: 0.8898\n",
            "Epoch 30/30\n",
            "1719/1719 [==============================] - 19s 11ms/step - loss: 0.2153 - accuracy: 0.9189 - val_loss: 0.3058 - val_accuracy: 0.8944\n"
          ]
        }
      ]
    },
    {
      "cell_type": "markdown",
      "source": [
        "Don't use Sigmoid function, instead use ReLU. If the difference between training set accuracy and validation set accuracy is LARGE, then the model is OVERFITTING."
      ],
      "metadata": {
        "id": "DUP9vmsgSqw2"
      }
    },
    {
      "cell_type": "code",
      "source": [
        "import pandas as pd\n",
        "import matplotlib.pyplot as plt\n",
        "\n",
        "pd.DataFrame(history.history).plot(figsize=(8, 5))\n",
        "plt.grid(True)\n",
        "plt.gca().set_ylim(0, 1) # set the vertical range to [0-1]\n",
        "plt.show()"
      ],
      "metadata": {
        "colab": {
          "base_uri": "https://localhost:8080/",
          "height": 451
        },
        "id": "AYhVlFZ1Sqc9",
        "outputId": "c21109d9-46e4-4996-a4e8-a9f93e0556d4"
      },
      "execution_count": 78,
      "outputs": [
        {
          "output_type": "display_data",
          "data": {
            "text/plain": [
              "<Figure size 800x500 with 1 Axes>"
            ],
            "image/png": "[encoded data removed]"
          },
          "metadata": {}
        }
      ]
    },
    {
      "cell_type": "code",
      "source": [
        "import pandas as pd\n",
        "import matplotlib.pyplot as plt\n",
        "\n",
        "pd.DataFrame(history2.history).plot(figsize=(8, 5))\n",
        "plt.grid(True)\n",
        "plt.gca().set_ylim(0, 1) # set the vertical range to [0-1]\n",
        "plt.show()"
      ],
      "metadata": {
        "colab": {
          "base_uri": "https://localhost:8080/",
          "height": 451
        },
        "id": "KlySfXaL-nRH",
        "outputId": "1779d848-162c-42f6-c02b-caf2cd6f5df6"
      },
      "execution_count": 79,
      "outputs": [
        {
          "output_type": "display_data",
          "data": {
            "text/plain": [
              "<Figure size 800x500 with 1 Axes>"
            ],
            "image/png": "[encoded data removed]"
          },
          "metadata": {}
        }
      ]
    },
    {
      "cell_type": "code",
      "source": [
        "modelType1.evaluate(X_test, y_test)"
      ],
      "metadata": {
        "colab": {
          "base_uri": "https://localhost:8080/"
        },
        "id": "DcrwBa5z-nOe",
        "outputId": "7a57ae7e-b2f5-4ca4-af69-9aa4edaab53f"
      },
      "execution_count": 81,
      "outputs": [
        {
          "output_type": "stream",
          "name": "stdout",
          "text": [
            "313/313 [==============================] - 2s 4ms/step - loss: 60.4507 - accuracy: 0.7904\n"
          ]
        },
        {
          "output_type": "execute_result",
          "data": {
            "text/plain": [
              "[60.45072555541992, 0.7904000282287598]"
            ]
          },
          "metadata": {},
          "execution_count": 81
        }
      ]
    },
    {
      "cell_type": "code",
      "source": [
        "X_new = X_test[:3]\n",
        "y_proba = modelType1.predict(X_new)\n",
        "y_proba.round(2)"
      ],
      "metadata": {
        "colab": {
          "base_uri": "https://localhost:8080/"
        },
        "id": "1ebxvN0f-nMI",
        "outputId": "2c0b01ba-181b-4ae6-c839-cb9bcf90f83e"
      },
      "execution_count": 82,
      "outputs": [
        {
          "output_type": "stream",
          "name": "stdout",
          "text": [
            "1/1 [==============================] - 0s 264ms/step\n"
          ]
        },
        {
          "output_type": "execute_result",
          "data": {
            "text/plain": [
              "array([[0., 0., 0., 0., 0., 0., 0., 0., 0., 1.],\n",
              "       [0., 0., 1., 0., 0., 0., 0., 0., 0., 0.],\n",
              "       [0., 1., 0., 0., 0., 0., 0., 0., 0., 0.]], dtype=float32)"
            ]
          },
          "metadata": {},
          "execution_count": 82
        }
      ]
    },
    {
      "cell_type": "code",
      "source": [
        "y_pred = modelType1.predict(X_new)\n",
        "print(y_pred.dtype)\n",
        "print(type(y_pred))\n",
        "print(y_pred.shape)\n",
        "print(len(y_pred))\n",
        "\n",
        "\n",
        "for i in range(len(y_pred)):\n",
        "  for j in range(len(y_pred[i])):\n",
        "    if y_pred[i][j] == 1:\n",
        "      print(class_names[j])"
      ],
      "metadata": {
        "colab": {
          "base_uri": "https://localhost:8080/"
        },
        "id": "DSHH02pR-nGm",
        "outputId": "5662845b-4dd0-4416-f7e0-6c038b1220a8"
      },
      "execution_count": 105,
      "outputs": [
        {
          "output_type": "stream",
          "name": "stdout",
          "text": [
            "1/1 [==============================] - 0s 25ms/step\n",
            "float32\n",
            "<class 'numpy.ndarray'>\n",
            "(3, 10)\n",
            "3\n",
            "Ankle boot\n",
            "Pullover\n",
            "Trouser\n"
          ]
        }
      ]
    },
    {
      "cell_type": "code",
      "source": [
        "y_new = y_test[:3]\n",
        "y_new"
      ],
      "metadata": {
        "colab": {
          "base_uri": "https://localhost:8080/"
        },
        "id": "BNSXZSil-nDu",
        "outputId": "f3059bca-22ca-4da7-8fe6-578d59865eed"
      },
      "execution_count": 106,
      "outputs": [
        {
          "output_type": "execute_result",
          "data": {
            "text/plain": [
              "array([9, 2, 1], dtype=uint8)"
            ]
          },
          "metadata": {},
          "execution_count": 106
        }
      ]
    },
    {
      "cell_type": "code",
      "source": [],
      "metadata": {
        "id": "2_0VpYC_-nBG"
      },
      "execution_count": null,
      "outputs": []
    }
  ]
}